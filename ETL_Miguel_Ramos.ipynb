{
 "cells": [
  {
   "attachments": {},
   "cell_type": "markdown",
   "metadata": {},
   "source": []
  },
  {
   "cell_type": "code",
   "execution_count": 1,
   "metadata": {},
   "outputs": [],
   "source": [
    "import pandas as pd\n",
    "import numpy as np\n",
    "import ast\n",
    "import warnings\n",
    "\n",
    "pd.set_option(\"display.max_columns\", None) # MUESTRA TODAS LAS COLUNAS DE UN PANDAS DATAFRAME\n",
    "warnings.filterwarnings('ignore')"
   ]
  },
  {
   "attachments": {},
   "cell_type": "markdown",
   "metadata": {},
   "source": [
    "# Procedemos con la ingesta del archivo \"movies_dataset.csv\""
   ]
  },
  {
   "cell_type": "code",
   "execution_count": 2,
   "metadata": {},
   "outputs": [],
   "source": [
    "data = pd.read_csv(r'./Dataset/movies_dataset.csv')"
   ]
  },
  {
   "cell_type": "code",
   "execution_count": 3,
   "metadata": {},
   "outputs": [],
   "source": [
    "# Cambiando nombre de columnas a minusculas\n",
    "data = data.rename(str.lower, axis='columns')"
   ]
  },
  {
   "cell_type": "code",
   "execution_count": 4,
   "metadata": {},
   "outputs": [
    {
     "name": "stdout",
     "output_type": "stream",
     "text": [
      "Registros duplicados: 13\n"
     ]
    }
   ],
   "source": [
    "# Chequeando data duplicada\n",
    "print('Registros duplicados:', data.duplicated().sum())\n",
    "\n",
    "# Borrando registros duplicados\n",
    "data.drop_duplicates(inplace=True)"
   ]
  },
  {
   "cell_type": "code",
   "execution_count": 5,
   "metadata": {},
   "outputs": [
    {
     "data": {
      "text/html": [
       "<div>\n",
       "<style scoped>\n",
       "    .dataframe tbody tr th:only-of-type {\n",
       "        vertical-align: middle;\n",
       "    }\n",
       "\n",
       "    .dataframe tbody tr th {\n",
       "        vertical-align: top;\n",
       "    }\n",
       "\n",
       "    .dataframe thead th {\n",
       "        text-align: right;\n",
       "    }\n",
       "</style>\n",
       "<table border=\"1\" class=\"dataframe\">\n",
       "  <thead>\n",
       "    <tr style=\"text-align: right;\">\n",
       "      <th></th>\n",
       "      <th>adult</th>\n",
       "      <th>belongs_to_collection</th>\n",
       "      <th>budget</th>\n",
       "      <th>genres</th>\n",
       "      <th>homepage</th>\n",
       "      <th>id</th>\n",
       "      <th>imdb_id</th>\n",
       "      <th>original_language</th>\n",
       "      <th>original_title</th>\n",
       "      <th>overview</th>\n",
       "      <th>popularity</th>\n",
       "      <th>poster_path</th>\n",
       "      <th>production_companies</th>\n",
       "      <th>production_countries</th>\n",
       "      <th>release_date</th>\n",
       "      <th>revenue</th>\n",
       "      <th>runtime</th>\n",
       "      <th>spoken_languages</th>\n",
       "      <th>status</th>\n",
       "      <th>tagline</th>\n",
       "      <th>title</th>\n",
       "      <th>video</th>\n",
       "      <th>vote_average</th>\n",
       "      <th>vote_count</th>\n",
       "    </tr>\n",
       "  </thead>\n",
       "  <tbody>\n",
       "    <tr>\n",
       "      <th>19730</th>\n",
       "      <td>- Written by Ørnås</td>\n",
       "      <td>0.065736</td>\n",
       "      <td>/ff9qCepilowshEtG2GYWwzt2bs4.jpg</td>\n",
       "      <td>[{'name': 'Carousel Productions', 'id': 11176}...</td>\n",
       "      <td>[{'iso_3166_1': 'CA', 'name': 'Canada'}, {'iso...</td>\n",
       "      <td>1997-08-20</td>\n",
       "      <td>0</td>\n",
       "      <td>104.0</td>\n",
       "      <td>[{'iso_639_1': 'en', 'name': 'English'}]</td>\n",
       "      <td>Released</td>\n",
       "      <td>NaN</td>\n",
       "      <td>Midnight Man</td>\n",
       "      <td>False</td>\n",
       "      <td>6.0</td>\n",
       "      <td>1</td>\n",
       "      <td>NaN</td>\n",
       "      <td>NaN</td>\n",
       "      <td>NaN</td>\n",
       "      <td>NaN</td>\n",
       "      <td>NaN</td>\n",
       "      <td>NaN</td>\n",
       "      <td>NaN</td>\n",
       "      <td>NaN</td>\n",
       "      <td>NaN</td>\n",
       "    </tr>\n",
       "    <tr>\n",
       "      <th>29503</th>\n",
       "      <td>Rune Balot goes to a casino connected to the ...</td>\n",
       "      <td>1.931659</td>\n",
       "      <td>/zV8bHuSL6WXoD6FWogP9j4x80bL.jpg</td>\n",
       "      <td>[{'name': 'Aniplex', 'id': 2883}, {'name': 'Go...</td>\n",
       "      <td>[{'iso_3166_1': 'US', 'name': 'United States o...</td>\n",
       "      <td>2012-09-29</td>\n",
       "      <td>0</td>\n",
       "      <td>68.0</td>\n",
       "      <td>[{'iso_639_1': 'ja', 'name': '日本語'}]</td>\n",
       "      <td>Released</td>\n",
       "      <td>NaN</td>\n",
       "      <td>Mardock Scramble: The Third Exhaust</td>\n",
       "      <td>False</td>\n",
       "      <td>7.0</td>\n",
       "      <td>12</td>\n",
       "      <td>NaN</td>\n",
       "      <td>NaN</td>\n",
       "      <td>NaN</td>\n",
       "      <td>NaN</td>\n",
       "      <td>NaN</td>\n",
       "      <td>NaN</td>\n",
       "      <td>NaN</td>\n",
       "      <td>NaN</td>\n",
       "      <td>NaN</td>\n",
       "    </tr>\n",
       "    <tr>\n",
       "      <th>35587</th>\n",
       "      <td>Avalanche Sharks tells the story of a bikini ...</td>\n",
       "      <td>2.185485</td>\n",
       "      <td>/zaSf5OG7V8X8gqFvly88zDdRm46.jpg</td>\n",
       "      <td>[{'name': 'Odyssey Media', 'id': 17161}, {'nam...</td>\n",
       "      <td>[{'iso_3166_1': 'CA', 'name': 'Canada'}]</td>\n",
       "      <td>2014-01-01</td>\n",
       "      <td>0</td>\n",
       "      <td>82.0</td>\n",
       "      <td>[{'iso_639_1': 'en', 'name': 'English'}]</td>\n",
       "      <td>Released</td>\n",
       "      <td>Beware Of Frost Bites</td>\n",
       "      <td>Avalanche Sharks</td>\n",
       "      <td>False</td>\n",
       "      <td>4.3</td>\n",
       "      <td>22</td>\n",
       "      <td>NaN</td>\n",
       "      <td>NaN</td>\n",
       "      <td>NaN</td>\n",
       "      <td>NaN</td>\n",
       "      <td>NaN</td>\n",
       "      <td>NaN</td>\n",
       "      <td>NaN</td>\n",
       "      <td>NaN</td>\n",
       "      <td>NaN</td>\n",
       "    </tr>\n",
       "  </tbody>\n",
       "</table>\n",
       "</div>"
      ],
      "text/plain": [
       "                                                   adult  \\\n",
       "19730                                 - Written by Ørnås   \n",
       "29503   Rune Balot goes to a casino connected to the ...   \n",
       "35587   Avalanche Sharks tells the story of a bikini ...   \n",
       "\n",
       "      belongs_to_collection                            budget  \\\n",
       "19730              0.065736  /ff9qCepilowshEtG2GYWwzt2bs4.jpg   \n",
       "29503              1.931659  /zV8bHuSL6WXoD6FWogP9j4x80bL.jpg   \n",
       "35587              2.185485  /zaSf5OG7V8X8gqFvly88zDdRm46.jpg   \n",
       "\n",
       "                                                  genres  \\\n",
       "19730  [{'name': 'Carousel Productions', 'id': 11176}...   \n",
       "29503  [{'name': 'Aniplex', 'id': 2883}, {'name': 'Go...   \n",
       "35587  [{'name': 'Odyssey Media', 'id': 17161}, {'nam...   \n",
       "\n",
       "                                                homepage          id imdb_id  \\\n",
       "19730  [{'iso_3166_1': 'CA', 'name': 'Canada'}, {'iso...  1997-08-20       0   \n",
       "29503  [{'iso_3166_1': 'US', 'name': 'United States o...  2012-09-29       0   \n",
       "35587           [{'iso_3166_1': 'CA', 'name': 'Canada'}]  2014-01-01       0   \n",
       "\n",
       "      original_language                            original_title  overview  \\\n",
       "19730             104.0  [{'iso_639_1': 'en', 'name': 'English'}]  Released   \n",
       "29503              68.0      [{'iso_639_1': 'ja', 'name': '日本語'}]  Released   \n",
       "35587              82.0  [{'iso_639_1': 'en', 'name': 'English'}]  Released   \n",
       "\n",
       "                  popularity                          poster_path  \\\n",
       "19730                    NaN                         Midnight Man   \n",
       "29503                    NaN  Mardock Scramble: The Third Exhaust   \n",
       "35587  Beware Of Frost Bites                     Avalanche Sharks   \n",
       "\n",
       "      production_companies production_countries release_date  revenue  \\\n",
       "19730                False                  6.0            1      NaN   \n",
       "29503                False                  7.0           12      NaN   \n",
       "35587                False                  4.3           22      NaN   \n",
       "\n",
       "       runtime spoken_languages status tagline title video  vote_average  \\\n",
       "19730      NaN              NaN    NaN     NaN   NaN   NaN           NaN   \n",
       "29503      NaN              NaN    NaN     NaN   NaN   NaN           NaN   \n",
       "35587      NaN              NaN    NaN     NaN   NaN   NaN           NaN   \n",
       "\n",
       "       vote_count  \n",
       "19730         NaN  \n",
       "29503         NaN  \n",
       "35587         NaN  "
      ]
     },
     "execution_count": 5,
     "metadata": {},
     "output_type": "execute_result"
    }
   ],
   "source": [
    "# Revisando registros con errores en campo \"adult\"\n",
    "data[ (data['adult'] != 'True') & (data['adult'] != 'False') ]"
   ]
  },
  {
   "cell_type": "code",
   "execution_count": 6,
   "metadata": {},
   "outputs": [],
   "source": [
    "# Revisando registros con errores en campo \"adult\", se ha detectado datos incorrectos en la data, se procede a eliminarlo\n",
    "filtroBorrar = data[ (data['adult'] != 'True') & (data['adult'] != 'False') ].index\n",
    "data.drop(filtroBorrar, inplace = True)"
   ]
  },
  {
   "cell_type": "code",
   "execution_count": 7,
   "metadata": {},
   "outputs": [],
   "source": [
    "# Creando una funcion generica que permite convertir un lista de diccionarios en un string separados por comas\n",
    "# antes deben convertir los datos nulos como \"sin dato\"\n",
    "\n",
    "def convertListaDict_String(x, name_campo):\n",
    "    if x == 'sin dato':\n",
    "        return x\n",
    "    else:\n",
    "        salida = []\n",
    "        mi_lista = ast.literal_eval(x)\n",
    "        for item in mi_lista:\n",
    "            mi_dict = ast.literal_eval(str(item))\n",
    "            salida.append(mi_dict.get(name_campo))\n",
    "        return ', '.join(salida)\n",
    "\n",
    "def convertDict_String(x, name_campo):\n",
    "    if x == 'sin dato':\n",
    "        salida = x\n",
    "    else:\n",
    "        mi_dict = ast.literal_eval(x)\n",
    "        salida = mi_dict.get(name_campo)\n",
    "        \n",
    "    return salida"
   ]
  },
  {
   "attachments": {},
   "cell_type": "markdown",
   "metadata": {},
   "source": [
    "Revisando valores nulos y convirtiendo la lista de diccionarios a string\n",
    "- belongs_to_collection : Un diccionario que indica a que franquicia o serie de películas pertenece la película\n",
    "- budget : El presupuesto de la película, en dólares\n",
    "- genres : Un diccionario que indica todos los géneros asociados a la película\n",
    "- production_companies : Lista con las compañias productoras asociadas a la película\n",
    "- production_countries : Lista con los países donde se produjo la película\n",
    "- spoken_languages : Lista con los idiomas que se hablan en la pelicula"
   ]
  },
  {
   "cell_type": "code",
   "execution_count": 8,
   "metadata": {},
   "outputs": [
    {
     "name": "stdout",
     "output_type": "stream",
     "text": [
      "Valores nulos en belongs_to_collection 40959\n",
      "Valores nulos en budget 0\n",
      "Valores nulos en genres 0\n",
      "Valores nulos en production_companies 3\n",
      "Valores nulos en production_countries 3\n",
      "Valores nulos en spoken_languages 3\n"
     ]
    }
   ],
   "source": [
    "columnas = ['belongs_to_collection', 'budget', 'genres', 'production_companies', 'production_countries', 'spoken_languages']\n",
    "for col in columnas:\n",
    "    # Buscando cantidad de valores nulos\n",
    "    print('Valores nulos en',col, data[col].isnull().sum())\n",
    "    # Reemplazando valor nulo con \"sin dato\"\n",
    "    data[col].fillna('sin dato', inplace = True)"
   ]
  },
  {
   "cell_type": "code",
   "execution_count": 9,
   "metadata": {},
   "outputs": [],
   "source": [
    "# Convirtiendo la lista de diccionarios en string\n",
    "for col in columnas:\n",
    "    if col == 'belongs_to_collection':\n",
    "        data['_' + col] = data[col].apply(lambda x: convertDict_String(x, 'name'))    \n",
    "    elif col in ['genres', 'production_companies']:\n",
    "        data['_' + col] = data[col].apply(lambda x: convertListaDict_String(x, 'name'))\n",
    "    elif col in ['production_countries']:\n",
    "        data['_' + col] = data[col].apply(lambda x: convertListaDict_String(x, 'name'))\n",
    "    elif col in ['spoken_languages']:\n",
    "        data['_' + col] = data[col].apply(lambda x: convertListaDict_String(x, 'name')) "
   ]
  },
  {
   "cell_type": "code",
   "execution_count": 10,
   "metadata": {},
   "outputs": [],
   "source": [
    "# Convirtiendo el tipo de dato de las columnas\n",
    "data['id'] = data['id'].astype('int')\n",
    "data['budget'] = data['budget'].astype('float')\n",
    "data['revenue'] = data['revenue'].astype('float')\n",
    "data['popularity'] = data['popularity'].astype('float')\n",
    "data['_production_countries'] = data['_production_countries'].str.lower()"
   ]
  },
  {
   "attachments": {},
   "cell_type": "markdown",
   "metadata": {},
   "source": [
    "Propuesta de trabajo (requerimientos de aprobación) Transformaciones"
   ]
  },
  {
   "cell_type": "code",
   "execution_count": 11,
   "metadata": {},
   "outputs": [
    {
     "name": "stdout",
     "output_type": "stream",
     "text": [
      "Se termino de haces las transformaciones requeridas en la seccion anterior\n"
     ]
    }
   ],
   "source": [
    "# Algunos campos, como belongs_to_collection, production_companiesy otros (ver diccionario de datos) están anidados, esto es o bien tienen un diccionario o una lista como valores en cada fila, ¡deberán desinfectarlos para poder y unirlos al dataset de nuevo hacer alguna de las consultas de la API! O bien buscar la manera de acceder a esos datos sin desinfectarlos.\n",
    "print('Se termino de haces las transformaciones requeridas en la seccion anterior')"
   ]
  },
  {
   "cell_type": "code",
   "execution_count": 12,
   "metadata": {},
   "outputs": [
    {
     "name": "stdout",
     "output_type": "stream",
     "text": [
      "3\n",
      "0\n"
     ]
    }
   ],
   "source": [
    "# Los valores nulos de los campos revenue, budget deben ser rellenados por el número 0.\n",
    "print(data['revenue'].isna().sum())\n",
    "print(data['budget'].isna().sum())\n",
    "\n",
    "data.drop(data[data['revenue'].isna()].index, inplace=True)\n",
    "data.drop(data[data['budget'].isna()].index, inplace=True)"
   ]
  },
  {
   "cell_type": "code",
   "execution_count": 13,
   "metadata": {},
   "outputs": [
    {
     "name": "stdout",
     "output_type": "stream",
     "text": [
      "84\n"
     ]
    }
   ],
   "source": [
    "# Los valores nulos del campo release_date deben eliminarse.\n",
    "print(data['release_date'].isna().sum())\n",
    "data.drop(data[data['release_date'].isna()].index, inplace=True)"
   ]
  },
  {
   "cell_type": "code",
   "execution_count": 14,
   "metadata": {},
   "outputs": [],
   "source": [
    "# De haber fechas, deberá tener el formato AAAA-mm-dd, además deberá crear la columna release_year donde extraerán el año de la fecha de estreno.\n",
    "data['release_date'] = pd.to_datetime(data['release_date'])\n",
    "data['release_year'] = data['release_date'].dt.year"
   ]
  },
  {
   "cell_type": "code",
   "execution_count": 15,
   "metadata": {},
   "outputs": [],
   "source": [
    "# Cree la columna con el retorno de inversión, llame return con los campos revenue y budget, dividiendo estas dos últimas revenue / budget, cuando no haya datos disponibles para calcularlo, deberá tomar el valor 0.\n",
    "def retornoInversion(revenue, budget):\n",
    "    if budget == 0:\n",
    "        return 0\n",
    "    else:\n",
    "        return revenue / budget\n",
    "\n",
    "data['return'] = data.apply(lambda row : retornoInversion(row['revenue'], row['budget']), axis = 1)"
   ]
  },
  {
   "cell_type": "code",
   "execution_count": 16,
   "metadata": {},
   "outputs": [],
   "source": [
    "# Eliminar las columnas que no se utilizarán, video, imdb_id, adult, original_title, poster_path y homepage.\n",
    "data.drop(['video', 'imdb_id', 'adult', 'original_title', 'poster_path', 'homepage'], axis=1, inplace=True)"
   ]
  },
  {
   "cell_type": "code",
   "execution_count": 17,
   "metadata": {},
   "outputs": [],
   "source": [
    "# Eliminando columnas que no son necesarios, porque tiene su equivalente calculado\n",
    "data.drop(['genres', 'belongs_to_collection', 'production_companies', 'production_countries','spoken_languages'], axis=1, inplace=True)"
   ]
  },
  {
   "cell_type": "code",
   "execution_count": 18,
   "metadata": {},
   "outputs": [
    {
     "data": {
      "text/plain": [
       "original_language            11\n",
       "overview                    941\n",
       "status                       80\n",
       "tagline                   24969\n",
       "title                         0\n",
       "_belongs_to_collection        0\n",
       "_genres                       0\n",
       "_production_companies         0\n",
       "_production_countries         0\n",
       "_spoken_languages             0\n",
       "dtype: int64"
      ]
     },
     "execution_count": 18,
     "metadata": {},
     "output_type": "execute_result"
    }
   ],
   "source": [
    "categorica_columns = data.select_dtypes(include = [\"object\",\"category\"])\n",
    "categorica_columns.isna().sum()"
   ]
  },
  {
   "cell_type": "code",
   "execution_count": 19,
   "metadata": {},
   "outputs": [],
   "source": [
    "# Reemplazando valor nulo con \"sin dato\" en campos categoricos\n",
    "columnas = categorica_columns.columns.values\n",
    "for col in columnas:\n",
    "    data[col].fillna('sin dato', inplace = True)"
   ]
  },
  {
   "attachments": {},
   "cell_type": "markdown",
   "metadata": {},
   "source": [
    "# Procedemos con la ingesta del archivo \"credits.csv\""
   ]
  },
  {
   "cell_type": "code",
   "execution_count": 20,
   "metadata": {},
   "outputs": [],
   "source": [
    "dataCredits = pd.read_csv(r'./Dataset/credits.csv')"
   ]
  },
  {
   "cell_type": "code",
   "execution_count": 21,
   "metadata": {},
   "outputs": [
    {
     "data": {
      "text/html": [
       "<div>\n",
       "<style scoped>\n",
       "    .dataframe tbody tr th:only-of-type {\n",
       "        vertical-align: middle;\n",
       "    }\n",
       "\n",
       "    .dataframe tbody tr th {\n",
       "        vertical-align: top;\n",
       "    }\n",
       "\n",
       "    .dataframe thead th {\n",
       "        text-align: right;\n",
       "    }\n",
       "</style>\n",
       "<table border=\"1\" class=\"dataframe\">\n",
       "  <thead>\n",
       "    <tr style=\"text-align: right;\">\n",
       "      <th></th>\n",
       "      <th>cast</th>\n",
       "      <th>crew</th>\n",
       "      <th>id</th>\n",
       "    </tr>\n",
       "  </thead>\n",
       "  <tbody>\n",
       "    <tr>\n",
       "      <th>0</th>\n",
       "      <td>[{'cast_id': 14, 'character': 'Woody (voice)',...</td>\n",
       "      <td>[{'credit_id': '52fe4284c3a36847f8024f49', 'de...</td>\n",
       "      <td>862</td>\n",
       "    </tr>\n",
       "    <tr>\n",
       "      <th>1</th>\n",
       "      <td>[{'cast_id': 1, 'character': 'Alan Parrish', '...</td>\n",
       "      <td>[{'credit_id': '52fe44bfc3a36847f80a7cd1', 'de...</td>\n",
       "      <td>8844</td>\n",
       "    </tr>\n",
       "  </tbody>\n",
       "</table>\n",
       "</div>"
      ],
      "text/plain": [
       "                                                cast  \\\n",
       "0  [{'cast_id': 14, 'character': 'Woody (voice)',...   \n",
       "1  [{'cast_id': 1, 'character': 'Alan Parrish', '...   \n",
       "\n",
       "                                                crew    id  \n",
       "0  [{'credit_id': '52fe4284c3a36847f8024f49', 'de...   862  \n",
       "1  [{'credit_id': '52fe44bfc3a36847f80a7cd1', 'de...  8844  "
      ]
     },
     "execution_count": 21,
     "metadata": {},
     "output_type": "execute_result"
    }
   ],
   "source": [
    "dataCredits.head(2)"
   ]
  },
  {
   "cell_type": "code",
   "execution_count": 22,
   "metadata": {},
   "outputs": [
    {
     "name": "stdout",
     "output_type": "stream",
     "text": [
      "Registros duplicados: 37\n"
     ]
    }
   ],
   "source": [
    "# Chequeando data duplicada\n",
    "print('Registros duplicados:', dataCredits.duplicated().sum())\n",
    "\n",
    "# Borrando registros duplicados\n",
    "dataCredits.drop_duplicates(inplace=True)"
   ]
  },
  {
   "attachments": {},
   "cell_type": "markdown",
   "metadata": {},
   "source": [
    "Revisando valores nulos y convirtiendo la lista de diccionarios a string\n",
    "- cast : actores de la pelicula\n",
    "- crew : directores de la pelicula"
   ]
  },
  {
   "cell_type": "code",
   "execution_count": 23,
   "metadata": {},
   "outputs": [
    {
     "name": "stdout",
     "output_type": "stream",
     "text": [
      "Valores nulos en cast 0\n",
      "Valores nulos en crew 0\n"
     ]
    }
   ],
   "source": [
    "columnas = ['cast', 'crew']\n",
    "for col in columnas:\n",
    "    # Buscando cantidad de valores nulos\n",
    "    print('Valores nulos en',col, dataCredits[col].isnull().sum())\n",
    "    # Reemplazando valor nulo con \"sin dato\"\n",
    "    dataCredits[col].fillna('sin dato', inplace = True)"
   ]
  },
  {
   "cell_type": "code",
   "execution_count": 24,
   "metadata": {},
   "outputs": [],
   "source": [
    "# Creando una funcion que permite convertir un lista de diccionarios en un string separados por comas, filtrando por \"job\"\n",
    "# antes deben convertir los datos nulos como \"sin dato\"\n",
    "def convertListaDictCrew_String(x, name_campo, job):\n",
    "    if x == 'sin dato':\n",
    "        return x\n",
    "    else:\n",
    "        salida = []\n",
    "        mi_lista = ast.literal_eval(x)\n",
    "        for item in mi_lista:\n",
    "            mi_dict = ast.literal_eval(str(item))\n",
    "            if mi_dict.get('job') == job:\n",
    "                salida.append(mi_dict.get(name_campo))\n",
    "        return ', '.join(salida)"
   ]
  },
  {
   "cell_type": "code",
   "execution_count": 25,
   "metadata": {},
   "outputs": [],
   "source": [
    "# Convirtiendo la lista de diccionarios en string\n",
    "for col in columnas:\n",
    "    if col == 'cast':\n",
    "        dataCredits['actor'] = dataCredits['cast'].apply(lambda x: convertListaDict_String(x, 'name'))\n",
    "    elif col == 'crew':\n",
    "        dataCredits['director'] = dataCredits['crew'].apply(lambda x: convertListaDictCrew_String(x, 'name', 'Director'))"
   ]
  },
  {
   "cell_type": "code",
   "execution_count": 26,
   "metadata": {},
   "outputs": [
    {
     "data": {
      "text/html": [
       "<div>\n",
       "<style scoped>\n",
       "    .dataframe tbody tr th:only-of-type {\n",
       "        vertical-align: middle;\n",
       "    }\n",
       "\n",
       "    .dataframe tbody tr th {\n",
       "        vertical-align: top;\n",
       "    }\n",
       "\n",
       "    .dataframe thead th {\n",
       "        text-align: right;\n",
       "    }\n",
       "</style>\n",
       "<table border=\"1\" class=\"dataframe\">\n",
       "  <thead>\n",
       "    <tr style=\"text-align: right;\">\n",
       "      <th></th>\n",
       "      <th>cast</th>\n",
       "      <th>crew</th>\n",
       "      <th>id</th>\n",
       "      <th>actor</th>\n",
       "      <th>director</th>\n",
       "    </tr>\n",
       "  </thead>\n",
       "  <tbody>\n",
       "    <tr>\n",
       "      <th>22180</th>\n",
       "      <td>[{'cast_id': 16, 'character': 'Luis', 'credit_...</td>\n",
       "      <td>[{'credit_id': '5681d3fc9251414f6300b345', 'de...</td>\n",
       "      <td>54236</td>\n",
       "      <td>José Luis López Vázquez, Lina Canalejas, Ferna...</td>\n",
       "      <td>Carlos Saura</td>\n",
       "    </tr>\n",
       "    <tr>\n",
       "      <th>29878</th>\n",
       "      <td>[{'cast_id': 18, 'character': 'Herself', 'cred...</td>\n",
       "      <td>[{'credit_id': '57c8b06fc3a3685bec0009cf', 'de...</td>\n",
       "      <td>333382</td>\n",
       "      <td>Violet Blue, Alan M. Dershowitz, David Greenfi...</td>\n",
       "      <td>Erin Lee Carr</td>\n",
       "    </tr>\n",
       "  </tbody>\n",
       "</table>\n",
       "</div>"
      ],
      "text/plain": [
       "                                                    cast  \\\n",
       "22180  [{'cast_id': 16, 'character': 'Luis', 'credit_...   \n",
       "29878  [{'cast_id': 18, 'character': 'Herself', 'cred...   \n",
       "\n",
       "                                                    crew      id  \\\n",
       "22180  [{'credit_id': '5681d3fc9251414f6300b345', 'de...   54236   \n",
       "29878  [{'credit_id': '57c8b06fc3a3685bec0009cf', 'de...  333382   \n",
       "\n",
       "                                                   actor       director  \n",
       "22180  José Luis López Vázquez, Lina Canalejas, Ferna...   Carlos Saura  \n",
       "29878  Violet Blue, Alan M. Dershowitz, David Greenfi...  Erin Lee Carr  "
      ]
     },
     "execution_count": 26,
     "metadata": {},
     "output_type": "execute_result"
    }
   ],
   "source": [
    "dataCredits.sample(2)"
   ]
  },
  {
   "cell_type": "code",
   "execution_count": 27,
   "metadata": {},
   "outputs": [],
   "source": [
    "dataCredits_unicos = dataCredits[['id', 'actor', 'director']].copy()"
   ]
  },
  {
   "cell_type": "code",
   "execution_count": 28,
   "metadata": {},
   "outputs": [
    {
     "name": "stdout",
     "output_type": "stream",
     "text": [
      "Registros duplicados: 6\n"
     ]
    }
   ],
   "source": [
    "# Chequeando data duplicada\n",
    "print('Registros duplicados:', dataCredits_unicos.duplicated().sum())\n",
    "\n",
    "# Borrando registros duplicados\n",
    "dataCredits_unicos.drop_duplicates(inplace=True)"
   ]
  },
  {
   "cell_type": "code",
   "execution_count": 29,
   "metadata": {},
   "outputs": [],
   "source": [
    "dataCredits_unicos['id'] = dataCredits_unicos['id'].astype('int')"
   ]
  },
  {
   "cell_type": "code",
   "execution_count": 30,
   "metadata": {},
   "outputs": [],
   "source": [
    "data_final = data.merge(dataCredits_unicos[['id', 'actor', 'director']], on='id', how='left')"
   ]
  },
  {
   "cell_type": "code",
   "execution_count": 31,
   "metadata": {},
   "outputs": [
    {
     "data": {
      "text/html": [
       "<div>\n",
       "<style scoped>\n",
       "    .dataframe tbody tr th:only-of-type {\n",
       "        vertical-align: middle;\n",
       "    }\n",
       "\n",
       "    .dataframe tbody tr th {\n",
       "        vertical-align: top;\n",
       "    }\n",
       "\n",
       "    .dataframe thead th {\n",
       "        text-align: right;\n",
       "    }\n",
       "</style>\n",
       "<table border=\"1\" class=\"dataframe\">\n",
       "  <thead>\n",
       "    <tr style=\"text-align: right;\">\n",
       "      <th></th>\n",
       "      <th>budget</th>\n",
       "      <th>id</th>\n",
       "      <th>original_language</th>\n",
       "      <th>overview</th>\n",
       "      <th>popularity</th>\n",
       "      <th>release_date</th>\n",
       "      <th>revenue</th>\n",
       "      <th>runtime</th>\n",
       "      <th>status</th>\n",
       "      <th>tagline</th>\n",
       "      <th>title</th>\n",
       "      <th>vote_average</th>\n",
       "      <th>vote_count</th>\n",
       "      <th>_belongs_to_collection</th>\n",
       "      <th>_genres</th>\n",
       "      <th>_production_companies</th>\n",
       "      <th>_production_countries</th>\n",
       "      <th>_spoken_languages</th>\n",
       "      <th>release_year</th>\n",
       "      <th>return</th>\n",
       "      <th>actor</th>\n",
       "      <th>director</th>\n",
       "    </tr>\n",
       "  </thead>\n",
       "  <tbody>\n",
       "    <tr>\n",
       "      <th>34918</th>\n",
       "      <td>0.0</td>\n",
       "      <td>336884</td>\n",
       "      <td>no</td>\n",
       "      <td>An old sanatorium is deteriorating in an isola...</td>\n",
       "      <td>1.395306</td>\n",
       "      <td>2015-10-09</td>\n",
       "      <td>0.0</td>\n",
       "      <td>90.0</td>\n",
       "      <td>Released</td>\n",
       "      <td>They can demolish a building, but never remove...</td>\n",
       "      <td>Dark Woods II</td>\n",
       "      <td>4.7</td>\n",
       "      <td>14.0</td>\n",
       "      <td>Dark Woods Collection</td>\n",
       "      <td>Horror</td>\n",
       "      <td>Filmkompaniet MadMonkey</td>\n",
       "      <td>norway</td>\n",
       "      <td>Norsk</td>\n",
       "      <td>2015</td>\n",
       "      <td>0.0</td>\n",
       "      <td>Anders Baasmo Christiansen, Ellen Dorrit Peter...</td>\n",
       "      <td>Pål Øie</td>\n",
       "    </tr>\n",
       "    <tr>\n",
       "      <th>39545</th>\n",
       "      <td>0.0</td>\n",
       "      <td>253343</td>\n",
       "      <td>en</td>\n",
       "      <td>Two teenage girls travel across the U.S. in 19...</td>\n",
       "      <td>2.626192</td>\n",
       "      <td>2016-07-05</td>\n",
       "      <td>0.0</td>\n",
       "      <td>89.0</td>\n",
       "      <td>Post Production</td>\n",
       "      <td>sin dato</td>\n",
       "      <td>Dear Eleanor</td>\n",
       "      <td>6.2</td>\n",
       "      <td>25.0</td>\n",
       "      <td>sin dato</td>\n",
       "      <td>Adventure, Comedy, Drama</td>\n",
       "      <td></td>\n",
       "      <td></td>\n",
       "      <td>English</td>\n",
       "      <td>2016</td>\n",
       "      <td>0.0</td>\n",
       "      <td>Liana Liberato, Isabelle Fuhrman, Josh Lucas, ...</td>\n",
       "      <td>Kevin Connolly</td>\n",
       "    </tr>\n",
       "  </tbody>\n",
       "</table>\n",
       "</div>"
      ],
      "text/plain": [
       "       budget      id original_language  \\\n",
       "34918     0.0  336884                no   \n",
       "39545     0.0  253343                en   \n",
       "\n",
       "                                                overview  popularity  \\\n",
       "34918  An old sanatorium is deteriorating in an isola...    1.395306   \n",
       "39545  Two teenage girls travel across the U.S. in 19...    2.626192   \n",
       "\n",
       "      release_date  revenue  runtime           status  \\\n",
       "34918   2015-10-09      0.0     90.0         Released   \n",
       "39545   2016-07-05      0.0     89.0  Post Production   \n",
       "\n",
       "                                                 tagline          title  \\\n",
       "34918  They can demolish a building, but never remove...  Dark Woods II   \n",
       "39545                                           sin dato   Dear Eleanor   \n",
       "\n",
       "       vote_average  vote_count _belongs_to_collection  \\\n",
       "34918           4.7        14.0  Dark Woods Collection   \n",
       "39545           6.2        25.0               sin dato   \n",
       "\n",
       "                        _genres    _production_companies  \\\n",
       "34918                    Horror  Filmkompaniet MadMonkey   \n",
       "39545  Adventure, Comedy, Drama                            \n",
       "\n",
       "      _production_countries _spoken_languages  release_year  return  \\\n",
       "34918                norway             Norsk          2015     0.0   \n",
       "39545                                 English          2016     0.0   \n",
       "\n",
       "                                                   actor        director  \n",
       "34918  Anders Baasmo Christiansen, Ellen Dorrit Peter...         Pål Øie  \n",
       "39545  Liana Liberato, Isabelle Fuhrman, Josh Lucas, ...  Kevin Connolly  "
      ]
     },
     "execution_count": 31,
     "metadata": {},
     "output_type": "execute_result"
    }
   ],
   "source": [
    "data_final.sample(2)"
   ]
  },
  {
   "cell_type": "code",
   "execution_count": 30,
   "metadata": {},
   "outputs": [],
   "source": [
    "data_final.to_csv('./Dataset/movies_final.csv')"
   ]
  },
  {
   "attachments": {},
   "cell_type": "markdown",
   "metadata": {},
   "source": [
    "# API funciones"
   ]
  },
  {
   "cell_type": "code",
   "execution_count": 32,
   "metadata": {},
   "outputs": [],
   "source": [
    "df = pd.read_csv(r'./Dataset/movies_final.zip', parse_dates=['release_date'])"
   ]
  },
  {
   "cell_type": "code",
   "execution_count": 33,
   "metadata": {},
   "outputs": [
    {
     "data": {
      "text/html": [
       "<div>\n",
       "<style scoped>\n",
       "    .dataframe tbody tr th:only-of-type {\n",
       "        vertical-align: middle;\n",
       "    }\n",
       "\n",
       "    .dataframe tbody tr th {\n",
       "        vertical-align: top;\n",
       "    }\n",
       "\n",
       "    .dataframe thead th {\n",
       "        text-align: right;\n",
       "    }\n",
       "</style>\n",
       "<table border=\"1\" class=\"dataframe\">\n",
       "  <thead>\n",
       "    <tr style=\"text-align: right;\">\n",
       "      <th></th>\n",
       "      <th>Unnamed: 0</th>\n",
       "      <th>budget</th>\n",
       "      <th>id</th>\n",
       "      <th>original_language</th>\n",
       "      <th>overview</th>\n",
       "      <th>popularity</th>\n",
       "      <th>release_date</th>\n",
       "      <th>revenue</th>\n",
       "      <th>runtime</th>\n",
       "      <th>status</th>\n",
       "      <th>tagline</th>\n",
       "      <th>title</th>\n",
       "      <th>vote_average</th>\n",
       "      <th>vote_count</th>\n",
       "      <th>_belongs_to_collection</th>\n",
       "      <th>_genres</th>\n",
       "      <th>_production_companies</th>\n",
       "      <th>_production_countries</th>\n",
       "      <th>_spoken_languages</th>\n",
       "      <th>release_year</th>\n",
       "      <th>return</th>\n",
       "      <th>actor</th>\n",
       "      <th>director</th>\n",
       "    </tr>\n",
       "  </thead>\n",
       "  <tbody>\n",
       "    <tr>\n",
       "      <th>6392</th>\n",
       "      <td>6392</td>\n",
       "      <td>0.0</td>\n",
       "      <td>32235</td>\n",
       "      <td>en</td>\n",
       "      <td>\"We are all angels. It is what we do with our ...</td>\n",
       "      <td>3.450973</td>\n",
       "      <td>2003-01-01</td>\n",
       "      <td>0.0</td>\n",
       "      <td>103.0</td>\n",
       "      <td>Released</td>\n",
       "      <td>NaN</td>\n",
       "      <td>Northfork</td>\n",
       "      <td>6.8</td>\n",
       "      <td>26.0</td>\n",
       "      <td>sin dato</td>\n",
       "      <td>Fantasy, Drama, Science Fiction</td>\n",
       "      <td>NaN</td>\n",
       "      <td>united states of america</td>\n",
       "      <td>English</td>\n",
       "      <td>2003</td>\n",
       "      <td>0.0</td>\n",
       "      <td>James Woods, Nick Nolte, Claire Forlani, Daryl...</td>\n",
       "      <td>Michael Polish</td>\n",
       "    </tr>\n",
       "    <tr>\n",
       "      <th>9057</th>\n",
       "      <td>9057</td>\n",
       "      <td>0.0</td>\n",
       "      <td>152426</td>\n",
       "      <td>en</td>\n",
       "      <td>On a red eye flight from LA to Boston, 10 peop...</td>\n",
       "      <td>12.215925</td>\n",
       "      <td>1995-05-14</td>\n",
       "      <td>0.0</td>\n",
       "      <td>180.0</td>\n",
       "      <td>Released</td>\n",
       "      <td>Prepare yourself for the flight of your life!</td>\n",
       "      <td>The Langoliers</td>\n",
       "      <td>6.0</td>\n",
       "      <td>158.0</td>\n",
       "      <td>sin dato</td>\n",
       "      <td>Drama, Horror, Science Fiction, Mystery, Thriller</td>\n",
       "      <td>Laurel Entertainment, Spelling Films, Worldvision</td>\n",
       "      <td>united states of america</td>\n",
       "      <td>English, Magyar, Español</td>\n",
       "      <td>1995</td>\n",
       "      <td>0.0</td>\n",
       "      <td>Patricia Wettig, Dean Stockwell, David Morse, ...</td>\n",
       "      <td>Tom Holland</td>\n",
       "    </tr>\n",
       "  </tbody>\n",
       "</table>\n",
       "</div>"
      ],
      "text/plain": [
       "      Unnamed: 0  budget      id original_language  \\\n",
       "6392        6392     0.0   32235                en   \n",
       "9057        9057     0.0  152426                en   \n",
       "\n",
       "                                               overview  popularity  \\\n",
       "6392  \"We are all angels. It is what we do with our ...    3.450973   \n",
       "9057  On a red eye flight from LA to Boston, 10 peop...   12.215925   \n",
       "\n",
       "     release_date  revenue  runtime    status  \\\n",
       "6392   2003-01-01      0.0    103.0  Released   \n",
       "9057   1995-05-14      0.0    180.0  Released   \n",
       "\n",
       "                                            tagline           title  \\\n",
       "6392                                            NaN       Northfork   \n",
       "9057  Prepare yourself for the flight of your life!  The Langoliers   \n",
       "\n",
       "      vote_average  vote_count _belongs_to_collection  \\\n",
       "6392           6.8        26.0               sin dato   \n",
       "9057           6.0       158.0               sin dato   \n",
       "\n",
       "                                                _genres  \\\n",
       "6392                    Fantasy, Drama, Science Fiction   \n",
       "9057  Drama, Horror, Science Fiction, Mystery, Thriller   \n",
       "\n",
       "                                  _production_companies  \\\n",
       "6392                                                NaN   \n",
       "9057  Laurel Entertainment, Spelling Films, Worldvision   \n",
       "\n",
       "         _production_countries         _spoken_languages  release_year  \\\n",
       "6392  united states of america                   English          2003   \n",
       "9057  united states of america  English, Magyar, Español          1995   \n",
       "\n",
       "      return                                              actor  \\\n",
       "6392     0.0  James Woods, Nick Nolte, Claire Forlani, Daryl...   \n",
       "9057     0.0  Patricia Wettig, Dean Stockwell, David Morse, ...   \n",
       "\n",
       "            director  \n",
       "6392  Michael Polish  \n",
       "9057     Tom Holland  "
      ]
     },
     "execution_count": 33,
     "metadata": {},
     "output_type": "execute_result"
    }
   ],
   "source": [
    "df.sample(2)"
   ]
  },
  {
   "cell_type": "code",
   "execution_count": 34,
   "metadata": {},
   "outputs": [],
   "source": [
    "def cantidad_filmaciones_mes(Mes: str): \n",
    "    # Se ingresa un mes en idioma Español. Debe devolver la cantidad de películas que fueron\n",
    "    # estrenadas en el mes consultado en la totalidad del conjunto de datos.\n",
    "    # Ejemplo de retorno: X cantidad de peliculas fueron estrenadas en el mes de X\n",
    "    mes_lista = {'enero': 1, \n",
    "                'febrero': 2,\n",
    "                'marzo': 3,\n",
    "                'abril': 4,\n",
    "                'mayo': 5,\n",
    "                'junio': 6,\n",
    "                'julio': 7,\n",
    "                'agosto': 8,\n",
    "                'setiembre': 9,\n",
    "                'octubre': 10,\n",
    "                'noviembre': 11,\n",
    "                'diciembre': 12}\n",
    "    # Validando el mes\n",
    "    Mes = Mes.lower()\n",
    "    if not Mes in mes_lista:\n",
    "        return 'Se debe ingresar un mes en idioma español.'\n",
    "    mes_nro = mes_lista.get(Mes)\n",
    "    cantidad = len(df[df['release_date'].dt.month == mes_nro])\n",
    "    \n",
    "    return {'mes':Mes, 'cantidad':cantidad}"
   ]
  },
  {
   "cell_type": "code",
   "execution_count": 35,
   "metadata": {},
   "outputs": [
    {
     "data": {
      "text/plain": [
       "{'mes': 'febrero', 'cantidad': 3029}"
      ]
     },
     "execution_count": 35,
     "metadata": {},
     "output_type": "execute_result"
    }
   ],
   "source": [
    "cantidad_filmaciones_mes('febrero')"
   ]
  },
  {
   "cell_type": "code",
   "execution_count": 36,
   "metadata": {},
   "outputs": [],
   "source": [
    "def cantidad_filmaciones_dia(Dia: str):\n",
    "    # Se ingresa un día en idioma Español. Debe devolver la cantidad de películas que\n",
    "    # fueron estrenadas en el día consultado en la totalidad del conjunto de datos.\n",
    "    # Ejemplo de retorno: X cantidad de películas fueron estrenadas en los días X\n",
    "    dia_lista = {'lunes': 0, \n",
    "            'martes': 1,\n",
    "            'miercoles': 2,\n",
    "            'jueves': 3,\n",
    "            'viernes': 4,\n",
    "            'sabado': 5,\n",
    "            'domingo': 6}\n",
    "    \n",
    "    # Validando el dia\n",
    "    Dia = Dia.lower()\n",
    "    if not Dia in dia_lista:\n",
    "        return 'Se debe ingresar un dia en idioma español.'\n",
    "    dia_nro = dia_lista.get(Dia)\n",
    "    cantidad = len(df[df['release_date'].dt.dayofweek == dia_nro])\n",
    "\n",
    "    return {'dia':Dia, 'cantidad':cantidad}"
   ]
  },
  {
   "cell_type": "code",
   "execution_count": 37,
   "metadata": {},
   "outputs": [
    {
     "data": {
      "text/plain": [
       "{'dia': 'lunes', 'cantidad': 3501}"
      ]
     },
     "execution_count": 37,
     "metadata": {},
     "output_type": "execute_result"
    }
   ],
   "source": [
    "cantidad_filmaciones_dia('lunes')"
   ]
  },
  {
   "cell_type": "code",
   "execution_count": 38,
   "metadata": {},
   "outputs": [],
   "source": [
    "def score_titulo(titulo_de_la_filmacion: str):\n",
    "    # Se ingresa el título de una filmación esperando como respuesta el título, el año de estreno y el score.\n",
    "    #Ejemplo de retorno: La película X fue estrenada en el año X con una puntuación/popularidad de X\n",
    "    \n",
    "    titulo = titulo_de_la_filmacion.lower()\n",
    "    result = df[df['title'].str.lower() == titulo]\n",
    "    if len(result) == 0:\n",
    "        return 'La pelicula no existe'\n",
    "    \n",
    "    anio = result['release_year']\n",
    "    anio = anio.to_list()\n",
    "    anio = anio[0]\n",
    "    \n",
    "    popularidad = result['popularity']\n",
    "    popularidad = popularidad.to_list()\n",
    "    popularidad = popularidad[0]\n",
    "    \n",
    "    return {'titulo':titulo, 'anio':anio, 'popularidad':popularidad}"
   ]
  },
  {
   "cell_type": "code",
   "execution_count": 39,
   "metadata": {},
   "outputs": [
    {
     "data": {
      "text/plain": [
       "{'titulo': 'run silent, run deep', 'anio': 1958, 'popularidad': 2.73837}"
      ]
     },
     "execution_count": 39,
     "metadata": {},
     "output_type": "execute_result"
    }
   ],
   "source": [
    "score_titulo('Run Silent, Run Deep')"
   ]
  },
  {
   "cell_type": "code",
   "execution_count": 40,
   "metadata": {},
   "outputs": [],
   "source": [
    "def votos_titulo(titulo_de_la_filmacion: str):\n",
    "    # Se ingresa el título de una filmación esperando como respuesta el título, \n",
    "    # la cantidad de votos y el valor promedio de las votaciones. La misma variable \n",
    "    # deberá contar con al menos 2000 valoraciones, caso contrario, debemos contar\n",
    "    # con un mensaje avisando que no cumple esta condición y que por ende, \n",
    "    # no se devuelve ningun valor.\n",
    "    # Ejemplo de retorno: La película X fue estrenada en el año X. \n",
    "    # La misma cuenta con un total de X valoraciones, con un promedio de X\n",
    "\n",
    "    titulo = titulo_de_la_filmacion.lower()\n",
    "    result = df[df['title'].str.lower() == titulo]\n",
    "    if len(result) == 0:\n",
    "        return 'La pelicula no existe'\n",
    "    \n",
    "    vote_count = result['vote_count']\n",
    "    vote_count = vote_count.to_list()\n",
    "    vote_count = vote_count[0]\n",
    "    \n",
    "    vote_average = result['vote_average']\n",
    "    vote_average = vote_average.to_list()\n",
    "    vote_average = vote_average[0]\n",
    "    \n",
    "    anio = result['release_year']\n",
    "    anio = anio.to_list()\n",
    "    anio = anio[0]\n",
    "    \n",
    "    if vote_count < 2000:\n",
    "        return 'La misma filmacion deberá contar con al menos 2000 valoraciones'\n",
    "    \n",
    "    return {'titulo':titulo, 'anio':anio, 'voto_total':vote_count, 'voto_promedio':vote_average}"
   ]
  },
  {
   "cell_type": "code",
   "execution_count": 41,
   "metadata": {},
   "outputs": [
    {
     "data": {
      "text/plain": [
       "{'titulo': 'this is the end',\n",
       " 'anio': 2013,\n",
       " 'voto_total': 2394.0,\n",
       " 'voto_promedio': 6.2}"
      ]
     },
     "execution_count": 41,
     "metadata": {},
     "output_type": "execute_result"
    }
   ],
   "source": [
    "votos_titulo('This Is the End')"
   ]
  },
  {
   "cell_type": "code",
   "execution_count": 42,
   "metadata": {},
   "outputs": [],
   "source": [
    "def get_actor(nombre_actor:str) :\n",
    "    # Se ingresa el nombre de un actor que se encuentra dentro de un dataset \n",
    "    # debiendo devolver el éxito del mismo medido a través del retorno. \n",
    "    # Además, la cantidad de películas que en las que ha realizado y el \n",
    "    # promedio de retorno. La definición no deberá considerar directores.\n",
    "    # Ejemplo de retorno: El actor X ha recibido de X cantidad de filmaciones, \n",
    "    # el mismo ha obtenido un retorno de X con un promedio de X por filmación\n",
    "\n",
    "    actor = nombre_actor.lower()\n",
    "    # actor = 'Tom Hanks'.lower()\n",
    "    result = df[df['actor'].str.lower().str.contains(actor, regex=True, na=False)]\n",
    "    if len(result) == 0:\n",
    "        return 'El actor no existe'\n",
    "    \n",
    "    cantidad_filmaciones = len(result)\n",
    "    retorno_total = result['revenue'].sum() / result['budget'].sum()\n",
    "    retorno_promedio = result['return'].mean()\n",
    "\n",
    "    return {'actor':nombre_actor, 'cantidad_filmaciones':cantidad_filmaciones, 'retorno_total':retorno_total, 'retorno_promedio':retorno_promedio}   "
   ]
  },
  {
   "cell_type": "code",
   "execution_count": 43,
   "metadata": {},
   "outputs": [
    {
     "data": {
      "text/plain": [
       "{'actor': 'Tom Hanks',\n",
       " 'cantidad_filmaciones': 71,\n",
       " 'retorno_total': 3.9609895036874625,\n",
       " 'retorno_promedio': 2.5190069866929914}"
      ]
     },
     "execution_count": 43,
     "metadata": {},
     "output_type": "execute_result"
    }
   ],
   "source": [
    "get_actor('Tom Hanks')"
   ]
  },
  {
   "cell_type": "code",
   "execution_count": 44,
   "metadata": {},
   "outputs": [],
   "source": [
    "def get_director(nombre_director: str): \n",
    "    # Se ingresa el nombre de un director que se encuentra dentro de un \n",
    "    # dataset debiendo devolver el éxito del mismo medido a través del retorno. \n",
    "    # Además, deberá devolver el nombre de cada película con la fecha de \n",
    "    # lanzamiento, retorno individual, costo y ganancia de la misma.\n",
    "\n",
    "    director = nombre_director.lower()\n",
    "    result = df[df['director'].str.lower().str.contains(director, regex=True, na=False)]\n",
    "    if len(result) == 0:\n",
    "        return 'El director no existe'\n",
    "\n",
    "    retorno_total_director = result['revenue'].sum() / result['budget'].sum()\n",
    "    peliculas = result[['title', 'release_year', 'return', 'budget', 'revenue']].to_dict('records')\n",
    "    \n",
    "    return {'director':nombre_director, 'retorno_total_director':retorno_total_director, 'peliculas': peliculas}"
   ]
  },
  {
   "cell_type": "code",
   "execution_count": 45,
   "metadata": {},
   "outputs": [
    {
     "data": {
      "text/plain": [
       "{'director': 'John Lasseter',\n",
       " 'retorno_total_director': 4.028598760714286,\n",
       " 'peliculas': [{'title': 'Toy Story',\n",
       "   'release_year': 1995,\n",
       "   'return': 12.4518011,\n",
       "   'budget': 30000000.0,\n",
       "   'revenue': 373554033.0},\n",
       "  {'title': \"A Bug's Life\",\n",
       "   'release_year': 1998,\n",
       "   'return': 3.027157158333333,\n",
       "   'budget': 120000000.0,\n",
       "   'revenue': 363258859.0},\n",
       "  {'title': 'Toy Story 2',\n",
       "   'release_year': 1999,\n",
       "   'return': 5.526298544444445,\n",
       "   'budget': 90000000.0,\n",
       "   'revenue': 497366869.0},\n",
       "  {'title': 'Luxo Jr.',\n",
       "   'release_year': 1986,\n",
       "   'return': 0.0,\n",
       "   'budget': 0.0,\n",
       "   'revenue': 0.0},\n",
       "  {'title': 'Cars',\n",
       "   'release_year': 2006,\n",
       "   'return': 3.849859575,\n",
       "   'budget': 120000000.0,\n",
       "   'revenue': 461983149.0},\n",
       "  {'title': 'Cars 2',\n",
       "   'release_year': 2011,\n",
       "   'return': 2.79926198,\n",
       "   'budget': 200000000.0,\n",
       "   'revenue': 559852396.0},\n",
       "  {'title': 'Tin Toy',\n",
       "   'release_year': 1988,\n",
       "   'return': 0.0,\n",
       "   'budget': 0.0,\n",
       "   'revenue': 0.0},\n",
       "  {'title': \"Red's Dream\",\n",
       "   'release_year': 1987,\n",
       "   'return': 0.0,\n",
       "   'budget': 0.0,\n",
       "   'revenue': 0.0},\n",
       "  {'title': 'Knick Knack',\n",
       "   'release_year': 1989,\n",
       "   'return': 0.0,\n",
       "   'budget': 0.0,\n",
       "   'revenue': 0.0},\n",
       "  {'title': 'Mater and the Ghostlight',\n",
       "   'release_year': 2006,\n",
       "   'return': 0.0,\n",
       "   'budget': 0.0,\n",
       "   'revenue': 0.0}]}"
      ]
     },
     "execution_count": 45,
     "metadata": {},
     "output_type": "execute_result"
    }
   ],
   "source": [
    "get_director('John Lasseter')"
   ]
  },
  {
   "cell_type": "code",
   "execution_count": 46,
   "metadata": {},
   "outputs": [],
   "source": [
    "def recomendacion_previo():\n",
    "    global cosine_sim, df_ml, indices\n",
    "    # De las caracteristicas de genero, actor, director y overview\n",
    "    nro_registros = 5000\n",
    "    features = ['_genres', 'director', 'actor', 'overview', 'title']\n",
    "    df_ml = df[features].head(nro_registros)\n",
    "    df_ml = df_ml.dropna(how='any', subset=features)\n",
    "    import nltk\n",
    "    import re\n",
    "\n",
    "    # stopwords\n",
    "    #nltk.download('stopwords')\n",
    "\n",
    "    stemmer = nltk.SnowballStemmer(\"english\")\n",
    "\n",
    "    from nltk.corpus import stopwords\n",
    "    import string\n",
    "\n",
    "    stopword = set(stopwords.words(\"english\"))\n",
    "\n",
    "    # Definimos función de limpieza\n",
    "    def clean_data(text):\n",
    "        text = str(text).lower()\n",
    "        text = re.sub('\\[.*?\\]', '', text)\n",
    "        text = re.sub('https?://\\S+|www\\.\\S+', '', text)\n",
    "        text = re.sub('<.*?>+', '', text)\n",
    "        text = re.sub('[%s]' % re.escape(string.punctuation), '', text)\n",
    "        text = re.sub('\\n', '', text)\n",
    "        text = re.sub('\\w*\\d\\w*', '', text)\n",
    "        text = [word for word in text.split(' ') if word not in stopword]\n",
    "        text=\" \".join(text)\n",
    "        text = [stemmer.stem(word) for word in text.split(' ')]\n",
    "        text=\" \".join(text)\n",
    "        return text    \n",
    "\n",
    "    for feature in features:\n",
    "        if feature not in  ['title']:\n",
    "            df_ml[feature] = df_ml[feature].apply(clean_data)\n",
    "\n",
    "    # Ahora podemos crear nuestra 'sopa de metadatos', que es una cadena que contiene\n",
    "    # todos los metadatos que queremos alimentar a nuestro vectorizador\n",
    "    def create_soup(x):\n",
    "        return x['_genres'] + ' ' + x['director'] + ' ' + x['actor'] + ' ' + x['overview']        \n",
    "    \n",
    "    df_ml['soup'] = df_ml.apply(create_soup, axis=1)\n",
    "    \n",
    "    # Import CountVectorizer and create the cuount matrix\n",
    "    from sklearn. feature_extraction.text import CountVectorizer\n",
    "\n",
    "    count = CountVectorizer()\n",
    "    count_matrix = count.fit_transform(df_ml['soup'])\n",
    "\n",
    "    # Compute the cosine similarity matrix based on the count_matrix\n",
    "    from sklearn.metrics.pairwise import cosine_similarity\n",
    "\n",
    "    cosine_sim = cosine_similarity(count_matrix, count_matrix)\n",
    "\n",
    "    # Restablece el indice de nuestro Dataframe principal y construyo el mapeo inverso como antes\n",
    "    df_ml = df_ml.reset_index()\n",
    "    indices = pd.Series(df_ml.index, index=df_ml['title'])                      \n",
    "    "
   ]
  },
  {
   "cell_type": "code",
   "execution_count": 47,
   "metadata": {},
   "outputs": [],
   "source": [
    "recomendacion_previo()"
   ]
  },
  {
   "cell_type": "code",
   "execution_count": 48,
   "metadata": {},
   "outputs": [],
   "source": [
    "def recomendacion(titulo: str):\n",
    "    # Ingresas un nombre de pelicula y te recomienda las similares en una lista\n",
    "    try:\n",
    "        idx = indices[titulo]\n",
    "    except:\n",
    "        return 'La pelicula no existe'\n",
    "  \n",
    "    # Obtengo las puntuaciones de similitud por pares de todas las peliculas con esa pelicula\n",
    "    sim_scores = list(enumerate(cosine_sim[idx]))\n",
    "\n",
    "    # Ordene las peliculas segun las puntuaciones de similitud\n",
    "    sim_scores = sorted(sim_scores, key=lambda x: x[1], reverse=True)\n",
    "\n",
    "    # Obten las puntuaciones de las 5 peliculas mas similares\n",
    "    sim_scores = sim_scores[1:6]\n",
    "\n",
    "    # Obtenga los indices de las peliculas\n",
    "    movie_indices = [i[0] for i in sim_scores]\n",
    "\n",
    "    # Devuelve el top 5 de peliculas similares\n",
    "    peliculas = df_ml['title'].iloc[movie_indices].to_list()\n",
    "    \n",
    "    return {'lista recomendada': peliculas}"
   ]
  },
  {
   "cell_type": "code",
   "execution_count": 49,
   "metadata": {},
   "outputs": [
    {
     "data": {
      "text/plain": [
       "{'lista recomendada': ['Kissing a Fool',\n",
       "  'Go',\n",
       "  'Intimacy',\n",
       "  'Suicide Kings',\n",
       "  'The Killing']}"
      ]
     },
     "execution_count": 49,
     "metadata": {},
     "output_type": "execute_result"
    }
   ],
   "source": [
    "recomendacion('Born to Win')"
   ]
  }
 ],
 "metadata": {
  "kernelspec": {
   "display_name": "Python 3.8.0 64-bit",
   "language": "python",
   "name": "python3"
  },
  "language_info": {
   "codemirror_mode": {
    "name": "ipython",
    "version": 3
   },
   "file_extension": ".py",
   "mimetype": "text/x-python",
   "name": "python",
   "nbconvert_exporter": "python",
   "pygments_lexer": "ipython3",
   "version": "3.8.0"
  },
  "orig_nbformat": 4,
  "vscode": {
   "interpreter": {
    "hash": "f8561e7899c0c7cebec5db5ecaa7c104a0756304427e1407ba0a841c626a3403"
   }
  }
 },
 "nbformat": 4,
 "nbformat_minor": 2
}
